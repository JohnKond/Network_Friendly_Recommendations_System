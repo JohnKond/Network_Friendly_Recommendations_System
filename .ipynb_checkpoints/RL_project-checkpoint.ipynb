{
 "cells": [
  {
   "cell_type": "markdown",
   "metadata": {},
   "source": [
    "<h1 style=\"text-align: center;\"> RL project : Network Friendly Recommendation System</h1>\n",
    "<!-- <h1 style=\"text-align: center;\">Captone Project</h1>   -->\n",
    "<h3 style=\"text-align: center;\"> Ioannis Kontogiorgakis </h3>\n",
    "<br></br>\n",
    "<br></br>\n",
    "<br></br>"
   ]
  },
  {
   "cell_type": "markdown",
   "metadata": {},
   "source": [
    "<h3> Phase A </h3>\n",
    "<br></br>\n",
    "In this phase, I implement a simple(r) version of the problem that can be solved with \"exact\" methods (i.e., no approximations based on neural networks or other methods) that we learned in the first lectures abour MDP and Q-learning methods\n",
    "<br></br>\n",
    "<br></br>"
   ]
  },
  {
   "cell_type": "code",
   "execution_count": 2,
   "metadata": {},
   "outputs": [],
   "source": [
    "# import necessary libraries\n",
    "import numpy as np"
   ]
  },
  {
   "cell_type": "markdown",
   "metadata": {},
   "source": [
    "Initialize parameters"
   ]
  },
  {
   "cell_type": "code",
   "execution_count": null,
   "metadata": {},
   "outputs": [],
   "source": [
    "# number of items/videos\n",
    "K = 50\n",
    "\n",
    "# relevance threshold in [0,1]\n",
    "u_min = 0.5\n",
    "\n",
    "# number of cached items\n",
    "C = 0.2 * K\n",
    "\n",
    "# number of recomendations the user gets\n",
    "# after watching a content\n",
    "N = 2\n",
    "\n",
    "# Relation matrix\n",
    "U = np.random.random((K, K))\n",
    "np.fill_diagonal(U, 0)"
   ]
  }
 ],
 "metadata": {
  "kernelspec": {
   "display_name": "Python 3",
   "language": "python",
   "name": "python3"
  },
  "language_info": {
   "codemirror_mode": {
    "name": "ipython",
    "version": 3
   },
   "file_extension": ".py",
   "mimetype": "text/x-python",
   "name": "python",
   "nbconvert_exporter": "python",
   "pygments_lexer": "ipython3",
   "version": "3.8.5"
  }
 },
 "nbformat": 4,
 "nbformat_minor": 4
}
